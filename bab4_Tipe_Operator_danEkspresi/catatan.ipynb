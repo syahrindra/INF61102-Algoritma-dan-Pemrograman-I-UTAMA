{
 "cells": [
  {
   "cell_type": "markdown",
   "metadata": {},
   "source": [
    "# 4.1 Tipe dasar"
   ]
  },
  {
   "cell_type": "markdown",
   "metadata": {},
   "source": [
    "__Tipe dasar__ adalah tipe yang dapat langsugn dipakai. Dalam dunia pemrograman, yang termasuk ke dalam tipe dasar adalah: __bilangan logik, bilangan bulat, karakter, bilangan riil, dan string__. Bilangan lojik, bilangan bulat, dan karakter disebut juga tipe ordinal karena setiap konstanta nilainya dapat ditransformasi ke suatu nilai integer."
   ]
  },
  {
   "cell_type": "markdown",
   "metadata": {},
   "source": [
    "## 4.1.1 Bilangan lojik"
   ]
  },
  {
   "cell_type": "markdown",
   "metadata": {},
   "source": [
    "__Nama Tipe__ <br>\n",
    "Nama tipe bilangan lojik adalah boolean (diambil dari nama seorang matematikawan Inggris, George Boole) \n",
    "<br><br>\n",
    "__Ranah Nilai__ <br>\n",
    "Bilangan lojik hanya mengenal dua buah nilai: TRUE atau FALSE. Istilah 'bilangan' pada 'bilangan lojik' dikarenakan kita dapat menyatakan 'benar' dengan angka 1 dan 'salah' dengan angka 0 (atau sebaliknya bergantung konvensi yang kita buat).\n",
    "<br><br>\n",
    "__Konstanta__<br>\n",
    "Konstanta yang terdapat pada tipe ini adalah true dan false.\n",
    "<br><br>\n",
    "__Operasi__<br>\n",
    "Operasi-operasi yang dpaat dilakukan terhadap tipe boolean dikenal dengan __operasi logika__ atau __operasi boolean__ yang menghasilkan nilai true atau false. Operasi logika yang umum digunakan untuk logika adalah: _not_, _and_, _or_, dan _xor_.\n",
    "<br>\n",
    "Jika _a_ dan _b_ adalah variable yang bertipe boolean, maka hasil operasi _a_ dan _b_ dengan keempat operator boolean tersebut diberikan oleh masing-masing tabel (yang disebut tabel kebenaran - truth table) berikut:\n",
    "\n",
    "<img src=\"../img/tabel 4.1.1.1 tabel not a.png\" alt=\"tabel not a\" title=\"tabel not a (boolean)\" />\n",
    "<br>\n",
    "<img src=\"../img/tabel 4.1.1.2 tabel kebenaran.png\" alt=\"Tabel Kebenaran\" title=\"Tabel kebenaran\" />"
   ]
  },
  {
   "cell_type": "markdown",
   "metadata": {},
   "source": []
  }
 ],
 "metadata": {
  "language_info": {
   "name": "python"
  }
 },
 "nbformat": 4,
 "nbformat_minor": 2
}
